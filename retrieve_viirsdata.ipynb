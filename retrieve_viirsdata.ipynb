{
 "cells": [
  {
   "cell_type": "markdown",
   "metadata": {},
   "source": [
    "# Script to Retrieve Daily Night Light Image Data\n",
    "\n",
    "## Methodology\n",
    "### 1. Set Up the Conda Environment\n",
    "\n",
    "To ensure all necessary libraries are installed and the environment is isolated, I created a new **Conda environment** specifically for this project.\n",
    "\n",
    "- **Create the Conda Environment**:\n",
    "  ```bash\n",
    "  conda create --name viirs-env python=3.9\n",
    "\n",
    "  \n",
    "  conda activate viirs-env\n",
    "\n",
    "  conda install geopandas rasterio\n",
    "  pip install earthengine-api\n",
    "\n",
    "  earthengine authenticate\n",
    "\n",
    "- Note: A Google Cloud project will need to be created, and the Earth Engine API must be enabled in the Google Cloud Console.\n"
   ]
  },
  {
   "cell_type": "code",
   "execution_count": 1,
   "metadata": {},
   "outputs": [
    {
     "name": "stdout",
     "output_type": "stream",
     "text": [
      "Earth Engine API initialized successfully!\n"
     ]
    }
   ],
   "source": [
    "import ee\n",
    "\n",
    "# Initialize Earth Engine with the Project ID\n",
    "ee.Initialize(project='viirs-data-collection')\n",
    "\n",
    "print(\"Earth Engine API initialized successfully!\")"
   ]
  },
  {
   "cell_type": "code",
   "execution_count": 2,
   "metadata": {},
   "outputs": [],
   "source": [
    "import geopandas as gpd"
   ]
  },
  {
   "cell_type": "code",
   "execution_count": 10,
   "metadata": {},
   "outputs": [],
   "source": [
    "#Function to load shapefile and convert to Earth Engine geometry\n",
    "def load_shapefile(shapefile_path):\n",
    "    gdf = gpd.read_file(shapefile_path)\n",
    "    geometry = gdf.geometry.union_all() # Merge all geometries into one if multiple features\n",
    "    \n",
    "    # Check if the geometry is valid\n",
    "    if geometry.is_valid:\n",
    "        # If it's a Polygon, return its exterior coordinates as a list\n",
    "        if geometry.geom_type == 'Polygon':\n",
    "            return ee.Geometry.Polygon([list(geometry.exterior.coords)])\n",
    "        # If it's a MultiPolygon, handle it accordingly\n",
    "        elif geometry.geom_type == 'MultiPolygon':\n",
    "            coords = [list(polygon.exterior.coords) for polygon in geometry]\n",
    "            return ee.Geometry.MultiPolygon(coords)\n",
    "        else:\n",
    "            raise ValueError(\"Unsupported geometry type\")\n",
    "    else:\n",
    "        raise ValueError(\"Invalid geometry\")"
   ]
  },
  {
   "cell_type": "code",
   "execution_count": 4,
   "metadata": {},
   "outputs": [],
   "source": [
    "#set the path to your shapefile (update with your actual path)\n",
    "shapefile_path = '/Users/kamiasalango/Desktop/Google_Earth/tofinoshapefile.shp' ## I created my own shapefile for Tofino "
   ]
  },
  {
   "cell_type": "code",
   "execution_count": 7,
   "metadata": {},
   "outputs": [
    {
     "name": "stdout",
     "output_type": "stream",
     "text": [
      "0    POLYGON ((-125.91207 49.15724, -125.77097 49.1...\n",
      "Name: geometry, dtype: geometry\n"
     ]
    }
   ],
   "source": [
    "#Load the shapefile into a GeoPandas DataFrame\n",
    "gdf = gpd.read_file(shapefile_path)\n",
    "\n",
    "#print the geometry to inspect it\n",
    "print(gdf.geometry)"
   ]
  },
  {
   "cell_type": "code",
   "execution_count": 12,
   "metadata": {},
   "outputs": [
    {
     "name": "stdout",
     "output_type": "stream",
     "text": [
      "AOI loaded: ee.Geometry({\n",
      "  \"functionInvocationValue\": {\n",
      "    \"functionName\": \"GeometryConstructors.Polygon\",\n",
      "    \"arguments\": {\n",
      "      \"coordinates\": {\n",
      "        \"constantValue\": [\n",
      "          [\n",
      "            [\n",
      "              -125.91207007223339,\n",
      "              49.157243953787436\n",
      "            ],\n",
      "            [\n",
      "              -125.77097231632538,\n",
      "              49.10933079660669\n",
      "            ],\n",
      "            [\n",
      "              -125.8715863279222,\n",
      "              49.066247369452206\n",
      "            ],\n",
      "            [\n",
      "              -125.91028402469024,\n",
      "              49.130176762991624\n",
      "            ],\n",
      "            [\n",
      "              -125.92308403208274,\n",
      "              49.14731454331551\n",
      "            ],\n",
      "            [\n",
      "              -125.91564216731966,\n",
      "              49.15763330188023\n",
      "            ],\n",
      "            [\n",
      "              -125.91207007223339,\n",
      "              49.157243953787436\n",
      "            ]\n",
      "          ]\n",
      "        ]\n",
      "      },\n",
      "      \"evenOdd\": {\n",
      "        \"constantValue\": true\n",
      "      }\n",
      "    }\n",
      "  }\n",
      "})\n"
     ]
    }
   ],
   "source": [
    "#Load the Area of Interest (AOI) from the shapefile\n",
    "aoi = load_shapefile(shapefile_path)\n",
    "\n",
    "#Print to check the AOI\n",
    "print(\"AOI loaded:\", aoi)"
   ]
  },
  {
   "cell_type": "code",
   "execution_count": 35,
   "metadata": {},
   "outputs": [],
   "source": [
    "#Collect daily VIIRS nightlight data\n",
    "def collect_viirs_nightlights(aoi, start_date, end_date):\n",
    "    # Use the VIIRS corrected radiances dataset\n",
    "    viirs = ee.ImageCollection('NOAA/VIIRS/001/VNP46A1') \\\n",
    "            .filterDate(start_date, end_date) \\\n",
    "            .filterBounds(aoi)\n",
    "    return viirs\n"
   ]
  },
  {
   "cell_type": "markdown",
   "metadata": {},
   "source": [
    "## Google Earth Engine, Daily data set info: \n",
    "VNP46A1: VIIRS Daily Gridded Day Night Band 500m Linear Lat Lon Grid Night\n",
    "https://developers.google.com/earth-engine/datasets/catalog/NOAA_VIIRS_001_VNP46A1\n"
   ]
  },
  {
   "cell_type": "code",
   "execution_count": 29,
   "metadata": {},
   "outputs": [],
   "source": [
    "#define date range\n",
    "start_date = '2023-09-01'\n",
    "end_date = '2023-09-30'"
   ]
  },
  {
   "cell_type": "code",
   "execution_count": 36,
   "metadata": {},
   "outputs": [],
   "source": [
    "# Collect the nightlight data for last week\n",
    "viirs_data = collect_viirs_nightlights(aoi, start_date, end_date)\n"
   ]
  },
  {
   "cell_type": "code",
   "execution_count": 37,
   "metadata": {},
   "outputs": [
    {
     "name": "stdout",
     "output_type": "stream",
     "text": [
      "Number of images retrieved: 29\n"
     ]
    }
   ],
   "source": [
    "num_images = viirs_data.size().getInfo()\n",
    "print(f\"Number of images retrieved: {num_images}\")"
   ]
  },
  {
   "cell_type": "code",
   "execution_count": 38,
   "metadata": {},
   "outputs": [
    {
     "name": "stdout",
     "output_type": "stream",
     "text": [
      "{'type': 'Image', 'bands': [{'id': 'BrightnessTemperature_M12', 'data_type': {'type': 'PixelType', 'precision': 'double', 'min': 0, 'max': 163.8375}, 'crs': 'EPSG:4326', 'crs_transform': [0.00416666666, 0, -180, 0, -0.00416666666, 80]}, {'id': 'BrightnessTemperature_M13', 'data_type': {'type': 'PixelType', 'precision': 'double', 'min': 0, 'max': 163.8375}, 'crs': 'EPSG:4326', 'crs_transform': [0.00416666666, 0, -180, 0, -0.00416666666, 80]}, {'id': 'BrightnessTemperature_M15', 'data_type': {'type': 'PixelType', 'precision': 'double', 'min': 0, 'max': 268.69350000000003}, 'crs': 'EPSG:4326', 'crs_transform': [0.00416666666, 0, -180, 0, -0.00416666666, 80]}, {'id': 'BrightnessTemperature_M16', 'data_type': {'type': 'PixelType', 'precision': 'double', 'min': 0, 'max': 281.8005}, 'crs': 'EPSG:4326', 'crs_transform': [0.00416666666, 0, -180, 0, -0.00416666666, 80]}, {'id': 'DNB_At_Sensor_Radiance_500m', 'data_type': {'type': 'PixelType', 'precision': 'double', 'min': 0, 'max': 6553.5}, 'crs': 'EPSG:4326', 'crs_transform': [0.00416666666, 0, -180, 0, -0.00416666666, 80]}, {'id': 'Glint_Angle', 'data_type': {'type': 'PixelType', 'precision': 'double', 'min': -327.68, 'max': 327.67}, 'crs': 'EPSG:4326', 'crs_transform': [0.00416666666, 0, -180, 0, -0.00416666666, 80]}, {'id': 'Granule', 'data_type': {'type': 'PixelType', 'precision': 'int', 'min': 0, 'max': 255}, 'crs': 'EPSG:4326', 'crs_transform': [0.00416666666, 0, -180, 0, -0.00416666666, 80]}, {'id': 'Lunar_Zenith', 'data_type': {'type': 'PixelType', 'precision': 'double', 'min': -327.68, 'max': 327.67}, 'crs': 'EPSG:4326', 'crs_transform': [0.00416666666, 0, -180, 0, -0.00416666666, 80]}, {'id': 'Lunar_Azimuth', 'data_type': {'type': 'PixelType', 'precision': 'double', 'min': -327.68, 'max': 327.67}, 'crs': 'EPSG:4326', 'crs_transform': [0.00416666666, 0, -180, 0, -0.00416666666, 80]}, {'id': 'Moon_Illumination_Fraction', 'data_type': {'type': 'PixelType', 'precision': 'double', 'min': -327.68, 'max': 327.67}, 'crs': 'EPSG:4326', 'crs_transform': [0.00416666666, 0, -180, 0, -0.00416666666, 80]}, {'id': 'Moon_Phase_Angle', 'data_type': {'type': 'PixelType', 'precision': 'double', 'min': -327.68, 'max': 327.67}, 'crs': 'EPSG:4326', 'crs_transform': [0.00416666666, 0, -180, 0, -0.00416666666, 80]}, {'id': 'QF_Cloud_Mask', 'data_type': {'type': 'PixelType', 'precision': 'int', 'min': 0, 'max': 65535}, 'crs': 'EPSG:4326', 'crs_transform': [0.00416666666, 0, -180, 0, -0.00416666666, 80]}, {'id': 'QF_DNB', 'data_type': {'type': 'PixelType', 'precision': 'int', 'min': 0, 'max': 65535}, 'crs': 'EPSG:4326', 'crs_transform': [0.00416666666, 0, -180, 0, -0.00416666666, 80]}, {'id': 'QF_VIIRS_M10', 'data_type': {'type': 'PixelType', 'precision': 'int', 'min': 0, 'max': 65535}, 'crs': 'EPSG:4326', 'crs_transform': [0.00416666666, 0, -180, 0, -0.00416666666, 80]}, {'id': 'QF_VIIRS_M11', 'data_type': {'type': 'PixelType', 'precision': 'int', 'min': 0, 'max': 65535}, 'crs': 'EPSG:4326', 'crs_transform': [0.00416666666, 0, -180, 0, -0.00416666666, 80]}, {'id': 'QF_VIIRS_M12', 'data_type': {'type': 'PixelType', 'precision': 'int', 'min': 0, 'max': 65535}, 'crs': 'EPSG:4326', 'crs_transform': [0.00416666666, 0, -180, 0, -0.00416666666, 80]}, {'id': 'QF_VIIRS_M13', 'data_type': {'type': 'PixelType', 'precision': 'int', 'min': 0, 'max': 65535}, 'crs': 'EPSG:4326', 'crs_transform': [0.00416666666, 0, -180, 0, -0.00416666666, 80]}, {'id': 'QF_VIIRS_M15', 'data_type': {'type': 'PixelType', 'precision': 'int', 'min': 0, 'max': 65535}, 'crs': 'EPSG:4326', 'crs_transform': [0.00416666666, 0, -180, 0, -0.00416666666, 80]}, {'id': 'QF_VIIRS_M16', 'data_type': {'type': 'PixelType', 'precision': 'int', 'min': 0, 'max': 65535}, 'crs': 'EPSG:4326', 'crs_transform': [0.00416666666, 0, -180, 0, -0.00416666666, 80]}, {'id': 'Radiance_M10', 'data_type': {'type': 'PixelType', 'precision': 'double', 'min': 0, 'max': 85.1955}, 'crs': 'EPSG:4326', 'crs_transform': [0.00416666666, 0, -180, 0, -0.00416666666, 80]}, {'id': 'Radiance_M11', 'data_type': {'type': 'PixelType', 'precision': 'double', 'min': 0, 'max': 38.0103}, 'crs': 'EPSG:4326', 'crs_transform': [0.00416666666, 0, -180, 0, -0.00416666666, 80]}, {'id': 'Sensor_Zenith', 'data_type': {'type': 'PixelType', 'precision': 'double', 'min': -327.68, 'max': 327.67}, 'crs': 'EPSG:4326', 'crs_transform': [0.00416666666, 0, -180, 0, -0.00416666666, 80]}, {'id': 'Sensor_Azimuth', 'data_type': {'type': 'PixelType', 'precision': 'double', 'min': -327.68, 'max': 327.67}, 'crs': 'EPSG:4326', 'crs_transform': [0.00416666666, 0, -180, 0, -0.00416666666, 80]}, {'id': 'Solar_Zenith', 'data_type': {'type': 'PixelType', 'precision': 'double', 'min': -327.68, 'max': 327.67}, 'crs': 'EPSG:4326', 'crs_transform': [0.00416666666, 0, -180, 0, -0.00416666666, 80]}, {'id': 'Solar_Azimuth', 'data_type': {'type': 'PixelType', 'precision': 'double', 'min': -327.68, 'max': 327.67}, 'crs': 'EPSG:4326', 'crs_transform': [0.00416666666, 0, -180, 0, -0.00416666666, 80]}, {'id': 'UTC_Time', 'data_type': {'type': 'PixelType', 'precision': 'float'}, 'crs': 'EPSG:4326', 'crs_transform': [0.00416666666, 0, -180, 0, -0.00416666666, 80]}], 'version': 1729628723307535, 'id': 'NOAA/VIIRS/001/VNP46A1/2023_09_01', 'properties': {'Solar_Zenith_scale': 0.01, 'BrightnessTemperature_M16_scale': 0.0043, 'google:max_source_file_timestamp': 1693838654000, 'system:time_end': 1693612800000, 'Radiance_M11_scale': 0.00058, 'Lunar_Zenith_scale': 0.01, 'BrightnessTemperature_M13_scale': 0.0025, 'Glint_Angle_scale': 0.01, 'Moon_Illumination_Fraction_scale': 0.01, 'system:time_start': 1693526400000, 'BrightnessTemperature_M12_scale': 0.0025, 'DNB_At_Sensor_Radiance_500m_scale': 0.1, 'Lunar_Azimuth_scale': 0.01, 'Radiance_M10_scale': 0.0013, 'Sensor_Azimuth_scale': 0.01, 'system:footprint': {'type': 'LinearRing', 'coordinates': [[-180, -90], [180, -90], [180, 90], [-180, 90], [-180, -90]]}, 'Moon_Phase_Angle_scale': 0.01, 'system:asset_size': 30890162645, 'BrightnessTemperature_M15_scale': 0.0041, 'Sensor_Zenith_scale': 0.01, 'Solar_Azimuth_scale': 0.01, 'system:index': '2023_09_01'}}\n"
     ]
    }
   ],
   "source": [
    "first_image = viirs_data.first()\n",
    "print(first_image.getInfo())"
   ]
  },
  {
   "cell_type": "markdown",
   "metadata": {},
   "source": [
    "## Export Images\n",
    "- export images to google drive, images can then be downloaded locally\n",
    "- alternatively export to google cloud storage\n",
    "- google drive is specified ; google earth engine is linked to google account used. \n"
   ]
  },
  {
   "cell_type": "code",
   "execution_count": 39,
   "metadata": {},
   "outputs": [],
   "source": [
    "#Function to export VIIRS data to Google Drive\n",
    "def export_viirs_to_drive(viirs_data, aoi, folder_name):\n",
    "    images = viirs_data.toList(viirs_data.size())  # Convert collection to a list\n",
    "    num_images = images.size().getInfo()\n",
    "    \n",
    "    for i in range(num_images):\n",
    "        image = ee.Image(images.get(i))\n",
    "        date = image.date().format('YYYY-MM-dd').getInfo()  # Extract date as string\n",
    "        \n",
    "        # Export to Google Drive\n",
    "        task = ee.batch.Export.image.toDrive(\n",
    "            image=image.clip(aoi),  # Clip to the AOI (Area of Interest)\n",
    "            description=f'VIIRS_{date}',  # Task description\n",
    "            folder=folder_name,  # Folder in Google Drive\n",
    "            fileNamePrefix=f'VIIRS_nightlight_{date}',  # File name prefix\n",
    "            scale=500,  # Set the resolution in meters\n",
    "            region=aoi.getInfo()['coordinates'],  # Define the export region (AOI)\n",
    "            fileFormat='GeoTIFF'  # File format\n",
    "        )\n",
    "        task.start()\n",
    "        print(f\"Exporting VIIRS_nightlight_{date} to Google Drive...\")"
   ]
  },
  {
   "cell_type": "code",
   "execution_count": 40,
   "metadata": {},
   "outputs": [],
   "source": [
    "# Set the folder name where images will be stored in Google Drive\n",
    "folder_name = 'VIIRS_Nightlight_Data'  # This folder will be created in Google Drive if it doesn't exist"
   ]
  },
  {
   "cell_type": "code",
   "execution_count": 41,
   "metadata": {},
   "outputs": [
    {
     "name": "stdout",
     "output_type": "stream",
     "text": [
      "Exporting VIIRS_nightlight_2023-09-01 to Google Drive...\n",
      "Exporting VIIRS_nightlight_2023-09-02 to Google Drive...\n",
      "Exporting VIIRS_nightlight_2023-09-03 to Google Drive...\n",
      "Exporting VIIRS_nightlight_2023-09-04 to Google Drive...\n",
      "Exporting VIIRS_nightlight_2023-09-05 to Google Drive...\n",
      "Exporting VIIRS_nightlight_2023-09-06 to Google Drive...\n",
      "Exporting VIIRS_nightlight_2023-09-07 to Google Drive...\n",
      "Exporting VIIRS_nightlight_2023-09-08 to Google Drive...\n",
      "Exporting VIIRS_nightlight_2023-09-09 to Google Drive...\n",
      "Exporting VIIRS_nightlight_2023-09-10 to Google Drive...\n",
      "Exporting VIIRS_nightlight_2023-09-11 to Google Drive...\n",
      "Exporting VIIRS_nightlight_2023-09-12 to Google Drive...\n",
      "Exporting VIIRS_nightlight_2023-09-13 to Google Drive...\n",
      "Exporting VIIRS_nightlight_2023-09-14 to Google Drive...\n",
      "Exporting VIIRS_nightlight_2023-09-15 to Google Drive...\n",
      "Exporting VIIRS_nightlight_2023-09-16 to Google Drive...\n",
      "Exporting VIIRS_nightlight_2023-09-17 to Google Drive...\n",
      "Exporting VIIRS_nightlight_2023-09-18 to Google Drive...\n",
      "Exporting VIIRS_nightlight_2023-09-19 to Google Drive...\n",
      "Exporting VIIRS_nightlight_2023-09-20 to Google Drive...\n",
      "Exporting VIIRS_nightlight_2023-09-21 to Google Drive...\n",
      "Exporting VIIRS_nightlight_2023-09-22 to Google Drive...\n",
      "Exporting VIIRS_nightlight_2023-09-23 to Google Drive...\n",
      "Exporting VIIRS_nightlight_2023-09-24 to Google Drive...\n",
      "Exporting VIIRS_nightlight_2023-09-25 to Google Drive...\n",
      "Exporting VIIRS_nightlight_2023-09-26 to Google Drive...\n",
      "Exporting VIIRS_nightlight_2023-09-27 to Google Drive...\n",
      "Exporting VIIRS_nightlight_2023-09-28 to Google Drive...\n",
      "Exporting VIIRS_nightlight_2023-09-29 to Google Drive...\n"
     ]
    }
   ],
   "source": [
    "#call the function to export the VIIRS data to Google Drive\n",
    "export_viirs_to_drive(viirs_data, aoi, folder_name)"
   ]
  },
  {
   "cell_type": "markdown",
   "metadata": {},
   "source": [
    "### Summary\n",
    "- Shapefile Input: I provided an Area of Interest (AOI) defined by a shapefile, which specifies the geographical region for the data collection.\n",
    "- Data Collection: Using Google Earth Engine's API, I accessed the NOAA/VIIRS/001/VNP46A1 dataset and collected daily nightlight data for the specified date range (e.g., Sep 1 to Sep 29, 2023).\n",
    "- Exporting Data: The collected images were exported as GeoTIFF files to my Google Drive, where they can be downloaded and further analyzed locally.\n",
    "\n",
    "### Auatomation\n",
    "\n",
    "If the data were to be collected on a daily basis in real time the script could be automated: \n",
    "- Dynamic Date Handling: Instead of specifying a fixed date range, the script can be modified to dynamically collect the previous night's data by using Python’s datetime module. For example:\n",
    "  Each time the script runs, it can use the current date to fetch the data from the previous night.\n",
    "  The script could be scheduled to run daily using a scheduling tool like cron (on macOS/Linux) or Task Scheduler (on Windows).\n",
    "- Scheduling the Script: The process can be automated by scheduling the script to run at a specific time each day, ensuring that the latest nightlight data is always retrieved and exported. This can be achieved using:\n",
    "   cron: A job can be set up to run the script every day at a designated time.\n",
    "   Python Scheduler: Libraries like schedule or APScheduler can be used to run the script on a daily basis within Python itself.\n",
    "- Continuous Data Collection: By automating this process, the script will continuously retrieve and export nightlight data daily, allowing for continuous monitoring and analysis of nightlight changes in the area of interest.\n"
   ]
  },
  {
   "cell_type": "markdown",
   "metadata": {},
   "source": []
  }
 ],
 "metadata": {
  "kernelspec": {
   "display_name": "viirs-env",
   "language": "python",
   "name": "python3"
  },
  "language_info": {
   "codemirror_mode": {
    "name": "ipython",
    "version": 3
   },
   "file_extension": ".py",
   "mimetype": "text/x-python",
   "name": "python",
   "nbconvert_exporter": "python",
   "pygments_lexer": "ipython3",
   "version": "3.9.20"
  }
 },
 "nbformat": 4,
 "nbformat_minor": 2
}
